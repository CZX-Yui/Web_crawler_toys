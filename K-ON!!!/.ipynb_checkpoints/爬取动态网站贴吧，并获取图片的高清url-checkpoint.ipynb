{
 "cells": [
  {
   "cell_type": "markdown",
   "metadata": {},
   "source": [
    "# 轻音一生推！\n",
    "## ---爬取动态网站的图片\n",
    "<br>爬取图片页地址：https://tieba.baidu.com/f?kw=%C7%E1%D2%F4&tab=album&subTab=album_thread\n",
    "\n",
    "<br>轻音吧是动态网站，采用异步传输方式。原来以为是静态网站，但爬取时啥也没有，参考了下面这篇文章：\n",
    "<br>python爬虫-解决网页中取不到的信息-\"真假网页\"：\n",
    "https://blog.csdn.net/liaoningxinmin/article/details/80794774"
   ]
  },
  {
   "cell_type": "markdown",
   "metadata": {},
   "source": [
    "## 爬虫的基本步骤"
   ]
  },
  {
   "cell_type": "markdown",
   "metadata": {},
   "source": [
    "### 1.抓取，相当于人打开网站链接。以前流行urllib，现在py3盛行，都用requests包"
   ]
  },
  {
   "cell_type": "markdown",
   "metadata": {},
   "source": [
    "可能遇到反爬，加请求头之类的问题参考：https://www.cnblogs.com/abdm-989/p/12129015.html"
   ]
  },
  {
   "cell_type": "markdown",
   "metadata": {},
   "source": [
    "下图中红色框列了4个XHR文件，是翻篇的时候自动加载出来的，橘色框是我要的url列表"
   ]
  },
  {
   "cell_type": "markdown",
   "metadata": {},
   "source": [
    "<img src='./img/网页解析图.png', width=80%>"
   ]
  },
  {
   "cell_type": "code",
   "execution_count": 137,
   "metadata": {
    "collapsed": true
   },
   "outputs": [],
   "source": [
    "import requests\n",
    "import re\n",
    "import time\n",
    "import os"
   ]
  },
  {
   "cell_type": "code",
   "execution_count": 2,
   "metadata": {
    "collapsed": true
   },
   "outputs": [],
   "source": [
    "url =\"https://tieba.baidu.com/photo/g/bw/picture/list?kw=%E8%BD%BB%E9%9F%B3&alt=jview&rn=200&tid=2129108776&pn=1&ps=121&pe=160&wall_type=v&_=1583745672410\"\n",
    "#url = \"http://tieba.baidu.com/photo/g/bw/picture/list?kw=%E8%BD%BB%E9%9F%B3&alt=jview&rn=200&tid=2129108776&pn=1&ps=161&pe=200&wall_type=v&_=1583739200551&red_tag=k2195808329\"\n",
    "\n",
    "#pre_url = 'http://tieba.baidu.com/photo/p?kw=%E8%BD%BB%E9%9F%B3&tid=2129108776&pic_id='\n",
    "\n",
    "kon_url = \"http://imgsrc.baidu.com/forum/pic/item/\""
   ]
  },
  {
   "cell_type": "code",
   "execution_count": 139,
   "metadata": {
    "collapsed": true
   },
   "outputs": [],
   "source": [
    "result = requests.get(url)   #报文\n",
    "#result.status_code\n",
    "#result.encoding"
   ]
  },
  {
   "cell_type": "code",
   "execution_count": 140,
   "metadata": {
    "collapsed": true
   },
   "outputs": [],
   "source": [
    "content = result.text      #数据\n",
    "#print(content)"
   ]
  },
  {
   "cell_type": "markdown",
   "metadata": {},
   "source": [
    "### 2.解析，曾经流行beautifulsoup，现在比较好的xpath，但我喜欢正则表达式。"
   ]
  },
  {
   "cell_type": "code",
   "execution_count": 4,
   "metadata": {},
   "outputs": [
    {
     "ename": "NameError",
     "evalue": "name 're' is not defined",
     "output_type": "error",
     "traceback": [
      "\u001b[1;31m---------------------------------------------------------------------------\u001b[0m",
      "\u001b[1;31mNameError\u001b[0m                                 Traceback (most recent call last)",
      "\u001b[1;32m<ipython-input-4-d13b55408c45>\u001b[0m in \u001b[0;36m<module>\u001b[1;34m()\u001b[0m\n\u001b[0;32m      1\u001b[0m \u001b[0mpattern\u001b[0m \u001b[1;33m=\u001b[0m \u001b[1;34m\"pic_id..\\\"(.*?)\\\"\"\u001b[0m        \u001b[1;31m#全文含金量最足的一句话\u001b[0m\u001b[1;33m\u001b[0m\u001b[0m\n\u001b[1;32m----> 2\u001b[1;33m \u001b[0mres\u001b[0m \u001b[1;33m=\u001b[0m \u001b[0mre\u001b[0m\u001b[1;33m.\u001b[0m\u001b[0mfindall\u001b[0m\u001b[1;33m(\u001b[0m\u001b[0mpattern\u001b[0m\u001b[1;33m,\u001b[0m\u001b[0mcontent\u001b[0m\u001b[1;33m)\u001b[0m\u001b[1;33m\u001b[0m\u001b[0m\n\u001b[0m\u001b[0;32m      3\u001b[0m \u001b[1;33m\u001b[0m\u001b[0m\n\u001b[0;32m      4\u001b[0m \u001b[0mkon_list\u001b[0m \u001b[1;33m=\u001b[0m \u001b[1;33m[\u001b[0m\u001b[1;33m]\u001b[0m\u001b[1;33m\u001b[0m\u001b[0m\n\u001b[0;32m      5\u001b[0m \u001b[1;32mfor\u001b[0m \u001b[0mi\u001b[0m \u001b[1;32min\u001b[0m \u001b[0mres\u001b[0m\u001b[1;33m:\u001b[0m\u001b[1;33m\u001b[0m\u001b[0m\n",
      "\u001b[1;31mNameError\u001b[0m: name 're' is not defined"
     ]
    }
   ],
   "source": [
    "pattern = \"pic_id..\\\"(.*?)\\\"\"        #全文含金量最足的一句话\n",
    "res = re.findall(pattern,content)\n",
    "\n",
    "kon_list = []\n",
    "for i in res:                     #解析的结果是高清图片的地址列表，核心是拼url\n",
    "#    kon_list.append(pre_url+i)\n",
    "    kon_list.append(kon_url+i+'.jpg') \n",
    "\n",
    "#len(kon_list)"
   ]
  },
  {
   "cell_type": "markdown",
   "metadata": {},
   "source": [
    "### 3.下载，常用到文件操作，os包"
   ]
  },
  {
   "cell_type": "markdown",
   "metadata": {},
   "source": [
    "下载时要遵循互助友爱原则，对于一些小网站，站主经营不易，记得加延时函数"
   ]
  },
  {
   "cell_type": "code",
   "execution_count": 142,
   "metadata": {
    "collapsed": true
   },
   "outputs": [],
   "source": [
    "if not os.path.exists('./KON_Album'):\n",
    "    os.makedirs('./KON_Album')\n",
    "\n",
    "j = 0\n",
    "for i in kon_list:\n",
    "    time.sleep(1)\n",
    "    j=j+1\n",
    "    pic = requests.get(i)\n",
    "    file_full_name = './KON_Album/' + str(j) + '.jpg'\n",
    "    with open(file_full_name, 'wb') as f:\n",
    "        f.write(pic.content)"
   ]
  },
  {
   "cell_type": "markdown",
   "metadata": {},
   "source": [
    "好文章：\n",
    "<br>1.Python实战异步爬虫(协程)+分布式爬虫(多进程):https://blog.csdn.net/SL_World/article/details/86633611"
   ]
  }
 ],
 "metadata": {
  "kernelspec": {
   "display_name": "Python 3",
   "language": "python",
   "name": "python3"
  },
  "language_info": {
   "codemirror_mode": {
    "name": "ipython",
    "version": 3
   },
   "file_extension": ".py",
   "mimetype": "text/x-python",
   "name": "python",
   "nbconvert_exporter": "python",
   "pygments_lexer": "ipython3",
   "version": "3.6.4"
  }
 },
 "nbformat": 4,
 "nbformat_minor": 2
}
