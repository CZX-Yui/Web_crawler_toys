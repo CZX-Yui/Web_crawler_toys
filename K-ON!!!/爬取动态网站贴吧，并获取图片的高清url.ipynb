{
 "cells": [
  {
   "cell_type": "code",
   "execution_count": 137,
   "metadata": {
    "collapsed": true
   },
   "outputs": [],
   "source": [
    "#轻音-最爱！\n",
    "import requests\n",
    "import re\n",
    "from bs4 import BeautifulSoup\n",
    "import time\n",
    "import os"
   ]
  },
  {
   "cell_type": "code",
   "execution_count": 138,
   "metadata": {
    "collapsed": true
   },
   "outputs": [],
   "source": [
    "url =\"https://tieba.baidu.com/photo/g/bw/picture/list?kw=%E8%BD%BB%E9%9F%B3&alt=jview&rn=200&tid=2129108776&pn=1&ps=121&pe=160&wall_type=v&_=1583745672410\"\n",
    "#url = \"http://tieba.baidu.com/photo/g/bw/picture/list?kw=%E8%BD%BB%E9%9F%B3&alt=jview&rn=200&tid=2129108776&pn=1&ps=161&pe=200&wall_type=v&_=1583739200551&red_tag=k2195808329\"\n",
    "\n",
    "#pre_url = 'http://tieba.baidu.com/photo/p?kw=%E8%BD%BB%E9%9F%B3&tid=2129108776&pic_id='\n",
    "\n",
    "kon_url = \"http://imgsrc.baidu.com/forum/pic/item/\""
   ]
  },
  {
   "cell_type": "code",
   "execution_count": 139,
   "metadata": {},
   "outputs": [],
   "source": [
    "result = requests.get(url)\n",
    "\n",
    "#result.status_code\n",
    "#result.encoding"
   ]
  },
  {
   "cell_type": "code",
   "execution_count": 140,
   "metadata": {
    "collapsed": true
   },
   "outputs": [],
   "source": [
    "content = result.text\n",
    "\n",
    "#print(content)"
   ]
  },
  {
   "cell_type": "code",
   "execution_count": 141,
   "metadata": {},
   "outputs": [
    {
     "data": {
      "text/plain": [
       "40"
      ]
     },
     "execution_count": 141,
     "metadata": {},
     "output_type": "execute_result"
    }
   ],
   "source": [
    "pattern = \"pic_id..\\\"(.*?)\\\"\"\n",
    "res = re.findall(pattern,content)\n",
    "\n",
    "kon_list = []\n",
    "for i in res:\n",
    "#    kon_list.append(pre_url+i)\n",
    "    kon_list.append(kon_url+i+'.jpg')\n",
    "\n",
    "len(kon_list)"
   ]
  },
  {
   "cell_type": "code",
   "execution_count": 142,
   "metadata": {},
   "outputs": [],
   "source": [
    "if not os.path.exists('./K-ON'):\n",
    "    os.makedirs('./K-On')\n",
    "\n",
    "j = 0\n",
    "for i in kon_list:\n",
    "    time.sleep(1)\n",
    "    j=j+1\n",
    "    pic = requests.get(i)\n",
    "    file_full_name = './K-On/' + str(j) + '.jpg'\n",
    "    with open(file_full_name, 'wb') as f:\n",
    "        f.write(pic.content)"
   ]
  },
  {
   "cell_type": "code",
   "execution_count": 136,
   "metadata": {},
   "outputs": [
    {
     "data": {
      "text/plain": [
       "'\\ncontent = soup.find(\\'div\\',\"wrap2\")\\n\\ncontent = soup.find(id=\"container\")\\n\\ncontent = soup.find(\\'div\\',\"content clearfix\")\\n\\ncontent = soup.find(id=\"ag_container\")\\n\\ncontent = soup.find(id=\"ag_main\")\\n\\ncontent = soup.find(id=\"ag_main_list\")\\n\\ncontent = soup.find_all(\\'div\\',\"ag_ele ag_ele_v\")\\n'"
      ]
     },
     "execution_count": 136,
     "metadata": {},
     "output_type": "execute_result"
    }
   ],
   "source": [
    "'''\n",
    "content = soup.find('div',\"wrap2\")\n",
    "\n",
    "content = soup.find(id=\"container\")\n",
    "\n",
    "content = soup.find('div',\"content clearfix\")\n",
    "\n",
    "content = soup.find(id=\"ag_container\")\n",
    "\n",
    "content = soup.find(id=\"ag_main\")\n",
    "\n",
    "content = soup.find(id=\"ag_main_list\")\n",
    "\n",
    "content = soup.find_all('div',\"ag_ele ag_ele_v\")\n",
    "'''"
   ]
  },
  {
   "cell_type": "code",
   "execution_count": 107,
   "metadata": {
    "collapsed": true
   },
   "outputs": [],
   "source": [
    "time.sleep(1)"
   ]
  }
 ],
 "metadata": {
  "kernelspec": {
   "display_name": "Python 3",
   "language": "python",
   "name": "python3"
  },
  "language_info": {
   "codemirror_mode": {
    "name": "ipython",
    "version": 3
   },
   "file_extension": ".py",
   "mimetype": "text/x-python",
   "name": "python",
   "nbconvert_exporter": "python",
   "pygments_lexer": "ipython3",
   "version": "3.6.4"
  }
 },
 "nbformat": 4,
 "nbformat_minor": 2
}
